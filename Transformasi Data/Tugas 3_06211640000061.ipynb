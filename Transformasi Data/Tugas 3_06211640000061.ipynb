{
 "cells": [
  {
   "cell_type": "code",
   "execution_count": 50,
   "metadata": {},
   "outputs": [],
   "source": [
    "import pandas as pd\n",
    "import numpy as np"
   ]
  },
  {
   "cell_type": "code",
   "execution_count": 51,
   "metadata": {},
   "outputs": [],
   "source": [
    "tugas=pd.read_csv('Auto Mobile Data Set.csv')"
   ]
  },
  {
   "cell_type": "code",
   "execution_count": 52,
   "metadata": {
    "scrolled": false
   },
   "outputs": [
    {
     "data": {
      "text/plain": [
       "price                4\n",
       "normalized-loses    41\n",
       "horsepower           2\n",
       "bore                 4\n",
       "stroke               4\n",
       "peak-rpm             2\n",
       "engine-size          0\n",
       "dtype: int64"
      ]
     },
     "execution_count": 52,
     "metadata": {},
     "output_type": "execute_result"
    }
   ],
   "source": [
    "np.sum(tugas.isnull())"
   ]
  },
  {
   "cell_type": "code",
   "execution_count": 53,
   "metadata": {},
   "outputs": [
    {
     "data": {
      "text/plain": [
       "price               0\n",
       "normalized-loses    0\n",
       "horsepower          0\n",
       "bore                0\n",
       "stroke              0\n",
       "peak-rpm            0\n",
       "engine-size         0\n",
       "dtype: int64"
      ]
     },
     "execution_count": 53,
     "metadata": {},
     "output_type": "execute_result"
    }
   ],
   "source": [
    "tugas['price']=tugas['price'].fillna((tugas['price'].mean()))\n",
    "tugas['normalized-loses']=tugas['normalized-loses'].fillna((tugas['normalized-loses'].mean()))\n",
    "tugas['horsepower']=tugas['horsepower'].fillna((tugas['horsepower'].mean()))\n",
    "tugas['bore']=tugas['bore'].fillna((tugas['bore'].mean()))\n",
    "tugas['stroke']=tugas['stroke'].fillna((tugas['stroke'].mean()))\n",
    "tugas['peak-rpm']=tugas['peak-rpm'].fillna((tugas['peak-rpm'].mean()))\n",
    "np.sum(tugas.isnull())"
   ]
  },
  {
   "cell_type": "code",
   "execution_count": 55,
   "metadata": {},
   "outputs": [],
   "source": [
    "tugas.to_csv('data1.csv', sep=',')"
   ]
  },
  {
   "cell_type": "code",
   "execution_count": 56,
   "metadata": {},
   "outputs": [],
   "source": [
    "from scipy import stats"
   ]
  },
  {
   "cell_type": "code",
   "execution_count": 80,
   "metadata": {},
   "outputs": [
    {
     "name": "stdout",
     "output_type": "stream",
     "text": [
      "[[0.51392808 0.06855545 0.50874254 ... 2.22884321 0.268742   0.51346383]\n",
      " [1.17998881 0.06855545 0.50874254 ... 2.22884321 0.268742   0.51346383]\n",
      " [1.17998881 0.06855545 1.96851138 ... 0.75976055 0.268742   1.38202726]\n",
      " ...\n",
      " [2.28491816 0.84160333 1.28954913 ... 1.51006509 0.84888475 2.21111054]\n",
      " [2.50324422 0.84160333 0.33900198 ... 0.49494756 0.7157927  1.10566617]\n",
      " [2.5376001  0.84160333 0.61058688 ... 0.45081312 0.6253594  0.94774555]]\n",
      "(178, 7)\n"
     ]
    }
   ],
   "source": [
    "z= np.abs(stats.zscore(tugas._get_numeric_data()))\n",
    "print(z)\n",
    "tugas=tugas[(z<3).all(axis=1)]\n",
    "print(tugas.shape)"
   ]
  },
  {
   "cell_type": "code",
   "execution_count": 81,
   "metadata": {},
   "outputs": [],
   "source": [
    "tugas.to_csv('data2.csv', sep=',')"
   ]
  },
  {
   "cell_type": "code",
   "execution_count": 82,
   "metadata": {},
   "outputs": [
    {
     "data": {
      "text/plain": [
       "price               0\n",
       "normalized-loses    0\n",
       "horsepower          0\n",
       "bore                0\n",
       "stroke              0\n",
       "peak-rpm            0\n",
       "engine-size         0\n",
       "dtype: int64"
      ]
     },
     "execution_count": 82,
     "metadata": {},
     "output_type": "execute_result"
    }
   ],
   "source": [
    "tugas2=pd.read_csv('Auto Mobile Data Set.csv')\n",
    "tugas2['price']=tugas2['price'].fillna((tugas2['price'].mean()))\n",
    "tugas2['normalized-loses']=tugas2['normalized-loses'].fillna((tugas2['normalized-loses'].mean()))\n",
    "tugas2['horsepower']=tugas2['horsepower'].fillna((tugas2['horsepower'].mean()))\n",
    "tugas2['bore']=tugas2['bore'].fillna((tugas['bore'].mean()))\n",
    "tugas2['stroke']=tugas2['stroke'].fillna((tugas2['stroke'].mean()))\n",
    "tugas2['peak-rpm']=tugas2['peak-rpm'].fillna((tugas2['peak-rpm'].mean()))\n",
    "np.sum(tugas2.isnull())"
   ]
  },
  {
   "cell_type": "code",
   "execution_count": 83,
   "metadata": {},
   "outputs": [
    {
     "data": {
      "text/html": [
       "<div>\n",
       "<style scoped>\n",
       "    .dataframe tbody tr th:only-of-type {\n",
       "        vertical-align: middle;\n",
       "    }\n",
       "\n",
       "    .dataframe tbody tr th {\n",
       "        vertical-align: top;\n",
       "    }\n",
       "\n",
       "    .dataframe thead th {\n",
       "        text-align: right;\n",
       "    }\n",
       "</style>\n",
       "<table border=\"1\" class=\"dataframe\">\n",
       "  <thead>\n",
       "    <tr style=\"text-align: right;\">\n",
       "      <th></th>\n",
       "      <th>0</th>\n",
       "      <th>1</th>\n",
       "      <th>2</th>\n",
       "      <th>3</th>\n",
       "      <th>4</th>\n",
       "      <th>5</th>\n",
       "      <th>6</th>\n",
       "    </tr>\n",
       "  </thead>\n",
       "  <tbody>\n",
       "    <tr>\n",
       "      <th>200</th>\n",
       "      <td>0.952203</td>\n",
       "      <td>0.005370</td>\n",
       "      <td>0.006444</td>\n",
       "      <td>0.000214</td>\n",
       "      <td>0.000178</td>\n",
       "      <td>0.305248</td>\n",
       "      <td>0.007970</td>\n",
       "    </tr>\n",
       "    <tr>\n",
       "      <th>201</th>\n",
       "      <td>0.963324</td>\n",
       "      <td>0.004805</td>\n",
       "      <td>0.008093</td>\n",
       "      <td>0.000191</td>\n",
       "      <td>0.000159</td>\n",
       "      <td>0.268082</td>\n",
       "      <td>0.007132</td>\n",
       "    </tr>\n",
       "    <tr>\n",
       "      <th>202</th>\n",
       "      <td>0.968705</td>\n",
       "      <td>0.004283</td>\n",
       "      <td>0.006042</td>\n",
       "      <td>0.000161</td>\n",
       "      <td>0.000129</td>\n",
       "      <td>0.247981</td>\n",
       "      <td>0.007800</td>\n",
       "    </tr>\n",
       "    <tr>\n",
       "      <th>203</th>\n",
       "      <td>0.977898</td>\n",
       "      <td>0.004134</td>\n",
       "      <td>0.004613</td>\n",
       "      <td>0.000131</td>\n",
       "      <td>0.000148</td>\n",
       "      <td>0.208897</td>\n",
       "      <td>0.006310</td>\n",
       "    </tr>\n",
       "    <tr>\n",
       "      <th>204</th>\n",
       "      <td>0.972642</td>\n",
       "      <td>0.004084</td>\n",
       "      <td>0.004901</td>\n",
       "      <td>0.000163</td>\n",
       "      <td>0.000135</td>\n",
       "      <td>0.232144</td>\n",
       "      <td>0.006062</td>\n",
       "    </tr>\n",
       "  </tbody>\n",
       "</table>\n",
       "</div>"
      ],
      "text/plain": [
       "            0         1         2         3         4         5         6\n",
       "200  0.952203  0.005370  0.006444  0.000214  0.000178  0.305248  0.007970\n",
       "201  0.963324  0.004805  0.008093  0.000191  0.000159  0.268082  0.007132\n",
       "202  0.968705  0.004283  0.006042  0.000161  0.000129  0.247981  0.007800\n",
       "203  0.977898  0.004134  0.004613  0.000131  0.000148  0.208897  0.006310\n",
       "204  0.972642  0.004084  0.004901  0.000163  0.000135  0.232144  0.006062"
      ]
     },
     "execution_count": 83,
     "metadata": {},
     "output_type": "execute_result"
    }
   ],
   "source": [
    "#normalization\n",
    "from sklearn.preprocessing import normalize\n",
    "tugas2norm=normalize(tugas2,norm='l2') #default norm L2, other are L1 dan Max\n",
    "tugas2norm=pd.DataFrame(tugas2norm)\n",
    "tugas2norm.tail()"
   ]
  },
  {
   "cell_type": "code",
   "execution_count": 84,
   "metadata": {},
   "outputs": [
    {
     "data": {
      "text/html": [
       "<div>\n",
       "<style scoped>\n",
       "    .dataframe tbody tr th:only-of-type {\n",
       "        vertical-align: middle;\n",
       "    }\n",
       "\n",
       "    .dataframe tbody tr th {\n",
       "        vertical-align: top;\n",
       "    }\n",
       "\n",
       "    .dataframe thead th {\n",
       "        text-align: right;\n",
       "    }\n",
       "</style>\n",
       "<table border=\"1\" class=\"dataframe\">\n",
       "  <thead>\n",
       "    <tr style=\"text-align: right;\">\n",
       "      <th></th>\n",
       "      <th>0</th>\n",
       "      <th>1</th>\n",
       "      <th>2</th>\n",
       "      <th>3</th>\n",
       "      <th>4</th>\n",
       "      <th>5</th>\n",
       "      <th>6</th>\n",
       "    </tr>\n",
       "  </thead>\n",
       "  <tbody>\n",
       "    <tr>\n",
       "      <th>200</th>\n",
       "      <td>0.443116</td>\n",
       "      <td>0.002685</td>\n",
       "      <td>0.003222</td>\n",
       "      <td>0.000107</td>\n",
       "      <td>0.000089</td>\n",
       "      <td>0.151450</td>\n",
       "      <td>0.003985</td>\n",
       "    </tr>\n",
       "    <tr>\n",
       "      <th>201</th>\n",
       "      <td>0.447574</td>\n",
       "      <td>0.002403</td>\n",
       "      <td>0.004046</td>\n",
       "      <td>0.000096</td>\n",
       "      <td>0.000080</td>\n",
       "      <td>0.133244</td>\n",
       "      <td>0.003566</td>\n",
       "    </tr>\n",
       "    <tr>\n",
       "      <th>202</th>\n",
       "      <td>0.449723</td>\n",
       "      <td>0.002142</td>\n",
       "      <td>0.003021</td>\n",
       "      <td>0.000081</td>\n",
       "      <td>0.000065</td>\n",
       "      <td>0.123359</td>\n",
       "      <td>0.003900</td>\n",
       "    </tr>\n",
       "    <tr>\n",
       "      <th>203</th>\n",
       "      <td>0.453382</td>\n",
       "      <td>0.002067</td>\n",
       "      <td>0.002307</td>\n",
       "      <td>0.000065</td>\n",
       "      <td>0.000074</td>\n",
       "      <td>0.104070</td>\n",
       "      <td>0.003155</td>\n",
       "    </tr>\n",
       "    <tr>\n",
       "      <th>204</th>\n",
       "      <td>0.451291</td>\n",
       "      <td>0.002042</td>\n",
       "      <td>0.002450</td>\n",
       "      <td>0.000081</td>\n",
       "      <td>0.000068</td>\n",
       "      <td>0.115554</td>\n",
       "      <td>0.003031</td>\n",
       "    </tr>\n",
       "  </tbody>\n",
       "</table>\n",
       "</div>"
      ],
      "text/plain": [
       "            0         1         2         3         4         5         6\n",
       "200  0.443116  0.002685  0.003222  0.000107  0.000089  0.151450  0.003985\n",
       "201  0.447574  0.002403  0.004046  0.000096  0.000080  0.133244  0.003566\n",
       "202  0.449723  0.002142  0.003021  0.000081  0.000065  0.123359  0.003900\n",
       "203  0.453382  0.002067  0.002307  0.000065  0.000074  0.104070  0.003155\n",
       "204  0.451291  0.002042  0.002450  0.000081  0.000068  0.115554  0.003031"
      ]
     },
     "execution_count": 84,
     "metadata": {},
     "output_type": "execute_result"
    }
   ],
   "source": [
    "#3sigmoid\n",
    "tugas2sigmoidal=(1-2.718281828**(-tugas2norm))/(1+2.718281828**(-tugas2norm))\n",
    "tugas2sigmoidal=pd.DataFrame(tugas2sigmoidal)\n",
    "tugas2sigmoidal.tail()"
   ]
  },
  {
   "cell_type": "code",
   "execution_count": 85,
   "metadata": {},
   "outputs": [],
   "source": [
    "tugas2sigmoidal.to_csv('data3.csv', sep=',')"
   ]
  },
  {
   "cell_type": "code",
   "execution_count": 86,
   "metadata": {},
   "outputs": [
    {
     "data": {
      "text/html": [
       "<div>\n",
       "<style scoped>\n",
       "    .dataframe tbody tr th:only-of-type {\n",
       "        vertical-align: middle;\n",
       "    }\n",
       "\n",
       "    .dataframe tbody tr th {\n",
       "        vertical-align: top;\n",
       "    }\n",
       "\n",
       "    .dataframe thead th {\n",
       "        text-align: right;\n",
       "    }\n",
       "</style>\n",
       "<table border=\"1\" class=\"dataframe\">\n",
       "  <thead>\n",
       "    <tr style=\"text-align: right;\">\n",
       "      <th></th>\n",
       "      <th>0</th>\n",
       "      <th>1</th>\n",
       "      <th>2</th>\n",
       "      <th>3</th>\n",
       "      <th>4</th>\n",
       "      <th>5</th>\n",
       "      <th>6</th>\n",
       "    </tr>\n",
       "  </thead>\n",
       "  <tbody>\n",
       "    <tr>\n",
       "      <th>173</th>\n",
       "      <td>0.952203</td>\n",
       "      <td>0.005370</td>\n",
       "      <td>0.006444</td>\n",
       "      <td>0.000214</td>\n",
       "      <td>0.000178</td>\n",
       "      <td>0.305248</td>\n",
       "      <td>0.007970</td>\n",
       "    </tr>\n",
       "    <tr>\n",
       "      <th>174</th>\n",
       "      <td>0.963324</td>\n",
       "      <td>0.004805</td>\n",
       "      <td>0.008093</td>\n",
       "      <td>0.000191</td>\n",
       "      <td>0.000159</td>\n",
       "      <td>0.268082</td>\n",
       "      <td>0.007132</td>\n",
       "    </tr>\n",
       "    <tr>\n",
       "      <th>175</th>\n",
       "      <td>0.968705</td>\n",
       "      <td>0.004283</td>\n",
       "      <td>0.006042</td>\n",
       "      <td>0.000161</td>\n",
       "      <td>0.000129</td>\n",
       "      <td>0.247981</td>\n",
       "      <td>0.007800</td>\n",
       "    </tr>\n",
       "    <tr>\n",
       "      <th>176</th>\n",
       "      <td>0.977898</td>\n",
       "      <td>0.004134</td>\n",
       "      <td>0.004613</td>\n",
       "      <td>0.000131</td>\n",
       "      <td>0.000148</td>\n",
       "      <td>0.208897</td>\n",
       "      <td>0.006310</td>\n",
       "    </tr>\n",
       "    <tr>\n",
       "      <th>177</th>\n",
       "      <td>0.972642</td>\n",
       "      <td>0.004084</td>\n",
       "      <td>0.004901</td>\n",
       "      <td>0.000163</td>\n",
       "      <td>0.000135</td>\n",
       "      <td>0.232144</td>\n",
       "      <td>0.006062</td>\n",
       "    </tr>\n",
       "  </tbody>\n",
       "</table>\n",
       "</div>"
      ],
      "text/plain": [
       "            0         1         2         3         4         5         6\n",
       "173  0.952203  0.005370  0.006444  0.000214  0.000178  0.305248  0.007970\n",
       "174  0.963324  0.004805  0.008093  0.000191  0.000159  0.268082  0.007132\n",
       "175  0.968705  0.004283  0.006042  0.000161  0.000129  0.247981  0.007800\n",
       "176  0.977898  0.004134  0.004613  0.000131  0.000148  0.208897  0.006310\n",
       "177  0.972642  0.004084  0.004901  0.000163  0.000135  0.232144  0.006062"
      ]
     },
     "execution_count": 86,
     "metadata": {},
     "output_type": "execute_result"
    }
   ],
   "source": [
    "#normalization data setelah hapus outlier\n",
    "from sklearn.preprocessing import normalize\n",
    "tugasnorm=normalize(tugas,norm='l2') #default norm L2, other are L1 dan Max\n",
    "tugasnorm=pd.DataFrame(tugasnorm)\n",
    "tugasnorm.tail()"
   ]
  },
  {
   "cell_type": "code",
   "execution_count": 87,
   "metadata": {},
   "outputs": [
    {
     "data": {
      "text/html": [
       "<div>\n",
       "<style scoped>\n",
       "    .dataframe tbody tr th:only-of-type {\n",
       "        vertical-align: middle;\n",
       "    }\n",
       "\n",
       "    .dataframe tbody tr th {\n",
       "        vertical-align: top;\n",
       "    }\n",
       "\n",
       "    .dataframe thead th {\n",
       "        text-align: right;\n",
       "    }\n",
       "</style>\n",
       "<table border=\"1\" class=\"dataframe\">\n",
       "  <thead>\n",
       "    <tr style=\"text-align: right;\">\n",
       "      <th></th>\n",
       "      <th>0</th>\n",
       "      <th>1</th>\n",
       "      <th>2</th>\n",
       "      <th>3</th>\n",
       "      <th>4</th>\n",
       "      <th>5</th>\n",
       "      <th>6</th>\n",
       "    </tr>\n",
       "  </thead>\n",
       "  <tbody>\n",
       "    <tr>\n",
       "      <th>173</th>\n",
       "      <td>0.443116</td>\n",
       "      <td>0.002685</td>\n",
       "      <td>0.003222</td>\n",
       "      <td>0.000107</td>\n",
       "      <td>0.000089</td>\n",
       "      <td>0.151450</td>\n",
       "      <td>0.003985</td>\n",
       "    </tr>\n",
       "    <tr>\n",
       "      <th>174</th>\n",
       "      <td>0.447574</td>\n",
       "      <td>0.002403</td>\n",
       "      <td>0.004046</td>\n",
       "      <td>0.000096</td>\n",
       "      <td>0.000080</td>\n",
       "      <td>0.133244</td>\n",
       "      <td>0.003566</td>\n",
       "    </tr>\n",
       "    <tr>\n",
       "      <th>175</th>\n",
       "      <td>0.449723</td>\n",
       "      <td>0.002142</td>\n",
       "      <td>0.003021</td>\n",
       "      <td>0.000081</td>\n",
       "      <td>0.000065</td>\n",
       "      <td>0.123359</td>\n",
       "      <td>0.003900</td>\n",
       "    </tr>\n",
       "    <tr>\n",
       "      <th>176</th>\n",
       "      <td>0.453382</td>\n",
       "      <td>0.002067</td>\n",
       "      <td>0.002307</td>\n",
       "      <td>0.000065</td>\n",
       "      <td>0.000074</td>\n",
       "      <td>0.104070</td>\n",
       "      <td>0.003155</td>\n",
       "    </tr>\n",
       "    <tr>\n",
       "      <th>177</th>\n",
       "      <td>0.451291</td>\n",
       "      <td>0.002042</td>\n",
       "      <td>0.002450</td>\n",
       "      <td>0.000081</td>\n",
       "      <td>0.000068</td>\n",
       "      <td>0.115554</td>\n",
       "      <td>0.003031</td>\n",
       "    </tr>\n",
       "  </tbody>\n",
       "</table>\n",
       "</div>"
      ],
      "text/plain": [
       "            0         1         2         3         4         5         6\n",
       "173  0.443116  0.002685  0.003222  0.000107  0.000089  0.151450  0.003985\n",
       "174  0.447574  0.002403  0.004046  0.000096  0.000080  0.133244  0.003566\n",
       "175  0.449723  0.002142  0.003021  0.000081  0.000065  0.123359  0.003900\n",
       "176  0.453382  0.002067  0.002307  0.000065  0.000074  0.104070  0.003155\n",
       "177  0.451291  0.002042  0.002450  0.000081  0.000068  0.115554  0.003031"
      ]
     },
     "execution_count": 87,
     "metadata": {},
     "output_type": "execute_result"
    }
   ],
   "source": [
    "#3sigmoid transformasi setelah hapus outlier\n",
    "tugassigmoidal=(1-2.718281828**(-tugasnorm))/(1+2.718281828**(-tugasnorm))\n",
    "tugassigmoidal=pd.DataFrame(tugassigmoidal)\n",
    "tugassigmoidal.tail()"
   ]
  },
  {
   "cell_type": "code",
   "execution_count": 88,
   "metadata": {},
   "outputs": [],
   "source": [
    "tugassigmoidal.to_csv('data4.csv', sep=',')"
   ]
  }
 ],
 "metadata": {
  "kernelspec": {
   "display_name": "Python 3",
   "language": "python",
   "name": "python3"
  },
  "language_info": {
   "codemirror_mode": {
    "name": "ipython",
    "version": 3
   },
   "file_extension": ".py",
   "mimetype": "text/x-python",
   "name": "python",
   "nbconvert_exporter": "python",
   "pygments_lexer": "ipython3",
   "version": "3.7.0"
  }
 },
 "nbformat": 4,
 "nbformat_minor": 2
}
