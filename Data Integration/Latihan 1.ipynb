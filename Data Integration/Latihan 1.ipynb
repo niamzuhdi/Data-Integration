{
 "cells": [
  {
   "cell_type": "code",
   "execution_count": 6,
   "metadata": {},
   "outputs": [
    {
     "name": "stdout",
     "output_type": "stream",
     "text": [
      "['apple', 'banana']\n",
      "['this is string', 10]\n",
      "[['apple', 'banana'], ['this is string', 10]]\n"
     ]
    }
   ],
   "source": [
    "fruits = [] #empty list\n",
    "fruits = ['apple', 'banana'] #list with 2 elements\n",
    "another_list = ['this is string', 10]\n",
    "\n",
    "print(fruits)\n",
    "print(another_list)\n",
    "\n",
    "combined = [fruits, another_list]\n",
    "print(combined)"
   ]
  },
  {
   "cell_type": "code",
   "execution_count": 7,
   "metadata": {},
   "outputs": [
    {
     "name": "stdout",
     "output_type": "stream",
     "text": [
      "['apple', 'banana', 'orange']\n",
      "['apple', 'banana', 'orange', 'mango']\n"
     ]
    }
   ],
   "source": [
    "#add element to a list\n",
    "fruits = ['apple', 'banana']\n",
    "fruits.append('orange')\n",
    "print(fruits)\n",
    "\n",
    "fruits=fruits+['mango']\n",
    "print(fruits)"
   ]
  },
  {
   "cell_type": "code",
   "execution_count": 8,
   "metadata": {},
   "outputs": [
    {
     "name": "stdout",
     "output_type": "stream",
     "text": [
      "(0, 5)\n",
      "('red', 'blue', 'pink')\n",
      "<class 'tuple'>\n",
      "<class 'tuple'>\n"
     ]
    }
   ],
   "source": [
    "# Tuple\n",
    "# memakai ()\n",
    "coordinate = (0, 5)\n",
    "colors = ('red', 'blue', 'pink')\n",
    "print(coordinate)\n",
    "print(colors)\n",
    "print(type(coordinate))\n",
    "print(type(colors))"
   ]
  },
  {
   "cell_type": "code",
   "execution_count": 9,
   "metadata": {},
   "outputs": [],
   "source": [
    "import pandas as pd\n",
    "import numpy as np"
   ]
  },
  {
   "cell_type": "code",
   "execution_count": 10,
   "metadata": {},
   "outputs": [
    {
     "name": "stdout",
     "output_type": "stream",
     "text": [
      "  key   A   B   C   D\n",
      "0  K0  A0  B0  C0  D0\n",
      "1  K1  A1  B1  C1  D1\n",
      "2  K2  A2  B2  C2  D2\n",
      "3  K3  A3  B3  C3  D3\n"
     ]
    }
   ],
   "source": [
    "## Merging\n",
    "left = pd.DataFrame({'key':['K0','K1','K2','K3'],\n",
    "                     'A':['A0','A1','A2','A3'],\n",
    "                     'B':['B0','B1','B2','B3']})\n",
    "right = pd.DataFrame({'key':['K0','K1','K2','K3'],\n",
    "                     'C':['C0','C1','C2','C3'],\n",
    "                     'D':['D0','D1','D2','D3']})\n",
    "\n",
    "result1 = pd.merge(left, right, on='key')\n",
    "print(result1)"
   ]
  },
  {
   "cell_type": "code",
   "execution_count": 11,
   "metadata": {},
   "outputs": [
    {
     "name": "stdout",
     "output_type": "stream",
     "text": [
      "  key1 key2   A   B   C   D\n",
      "0   K0   K0  A0  B0  C0  D0\n",
      "1   K1   K0  A2  B2  C1  D1\n",
      "2   K1   K0  A2  B2  C2  D2\n"
     ]
    }
   ],
   "source": [
    "left = pd.DataFrame({'key1':['K0','K0','K1','K2'],\n",
    "                     'key2':['K0','K1','K0','K1'],\n",
    "                     'A':['A0','A1','A2','A3'],\n",
    "                     'B':['B0','B1','B2','B3']})\n",
    "right = pd.DataFrame({'key1':['K0','K1','K1','K2'],\n",
    "                      'key2':['K0','K0','K0','K0'],\n",
    "                     'C':['C0','C1','C2','C3'],\n",
    "                     'D':['D0','D1','D2','D3']})\n",
    "\n",
    "result2 = pd.merge(left, right, on=['key1', 'key2'])\n",
    "print(result2)"
   ]
  },
  {
   "cell_type": "code",
   "execution_count": 12,
   "metadata": {},
   "outputs": [
    {
     "name": "stdout",
     "output_type": "stream",
     "text": [
      "   Acid1 Acid2\n",
      "0  0.123     a\n",
      "1  0.109     s\n",
      "2  0.110     d\n",
      "3  0.109     e\n",
      "4  0.112     r\n",
      "5  0.109     f\n",
      "6  0.110     g\n",
      "7  0.110     h\n",
      "8  0.110     y\n",
      "9  0.112     g\n",
      "\n",
      "   Acid1  B\n",
      "0  0.123  1\n",
      "1  0.109  2\n",
      "2  0.110  3\n",
      "3  0.109  2\n",
      "4  0.112  4\n",
      "5  0.109  3\n",
      "6  0.110  5\n",
      "7  0.110  7\n",
      "8  0.110  6\n",
      "9  0.112  8\n"
     ]
    },
    {
     "data": {
      "text/html": [
       "<div>\n",
       "<style scoped>\n",
       "    .dataframe tbody tr th:only-of-type {\n",
       "        vertical-align: middle;\n",
       "    }\n",
       "\n",
       "    .dataframe tbody tr th {\n",
       "        vertical-align: top;\n",
       "    }\n",
       "\n",
       "    .dataframe thead th {\n",
       "        text-align: right;\n",
       "    }\n",
       "</style>\n",
       "<table border=\"1\" class=\"dataframe\">\n",
       "  <thead>\n",
       "    <tr style=\"text-align: right;\">\n",
       "      <th></th>\n",
       "      <th>Acid1</th>\n",
       "      <th>Acid2</th>\n",
       "      <th>B</th>\n",
       "    </tr>\n",
       "  </thead>\n",
       "  <tbody>\n",
       "    <tr>\n",
       "      <th>0</th>\n",
       "      <td>0.123</td>\n",
       "      <td>a</td>\n",
       "      <td>1</td>\n",
       "    </tr>\n",
       "    <tr>\n",
       "      <th>1</th>\n",
       "      <td>0.109</td>\n",
       "      <td>s</td>\n",
       "      <td>2</td>\n",
       "    </tr>\n",
       "    <tr>\n",
       "      <th>2</th>\n",
       "      <td>0.109</td>\n",
       "      <td>s</td>\n",
       "      <td>2</td>\n",
       "    </tr>\n",
       "    <tr>\n",
       "      <th>3</th>\n",
       "      <td>0.109</td>\n",
       "      <td>s</td>\n",
       "      <td>3</td>\n",
       "    </tr>\n",
       "    <tr>\n",
       "      <th>4</th>\n",
       "      <td>0.109</td>\n",
       "      <td>e</td>\n",
       "      <td>2</td>\n",
       "    </tr>\n",
       "  </tbody>\n",
       "</table>\n",
       "</div>"
      ],
      "text/plain": [
       "   Acid1 Acid2  B\n",
       "0  0.123     a  1\n",
       "1  0.109     s  2\n",
       "2  0.109     s  2\n",
       "3  0.109     s  3\n",
       "4  0.109     e  2"
      ]
     },
     "execution_count": 12,
     "metadata": {},
     "output_type": "execute_result"
    }
   ],
   "source": [
    "data1=pd.read_csv('mining.csv')\n",
    "data2=pd.read_csv('mining2.csv')\n",
    "print(data1)\n",
    "print()\n",
    "print(data2)\n",
    "\n",
    "complete = pd.merge(data1,data2, on='Acid1')\n",
    "complete.head()"
   ]
  },
  {
   "cell_type": "code",
   "execution_count": 14,
   "metadata": {},
   "outputs": [
    {
     "name": "stdout",
     "output_type": "stream",
     "text": [
      "     A    B    C    D\n",
      "0   A0   B0   C0   D0\n",
      "1   A1   B1   C1   D1\n",
      "2   A2   B2   C2   D2\n",
      "3   A3   B3   C3   D3\n",
      "0   A4   B4   C4   D4\n",
      "1   A5   B5   C5   D5\n",
      "2   A6   B6   C6   D6\n",
      "3   A7   B7   C7   D7\n",
      "0   A8   B8   C8   D8\n",
      "1   A9   B9   C9   D9\n",
      "2  A10  B10  C10  D10\n",
      "3  A11  B11  C11  D11\n"
     ]
    }
   ],
   "source": [
    "df1 = pd.DataFrame({'A':['A0', 'A1', 'A2', 'A3'],\n",
    "                    'B': ['B0', 'B1', 'B2', 'B3'],\n",
    "                    'C': ['C0', 'C1', 'C2', 'C3'],\n",
    "                    'D': ['D0', 'D1', 'D2', 'D3']})\n",
    "df2 = pd.DataFrame({'A':['A4', 'A5', 'A6', 'A7'],\n",
    "                    'B': ['B4', 'B5', 'B6', 'B7'],\n",
    "                    'C': ['C4', 'C5', 'C6', 'C7'],\n",
    "                    'D': ['D4', 'D5', 'D6', 'D7']})\n",
    "df3 = pd.DataFrame({'A':['A8', 'A9', 'A10', 'A11'],\n",
    "                    'B': ['B8', 'B9', 'B10', 'B11'],\n",
    "                    'C': ['C8', 'C9', 'C10', 'C11'],\n",
    "                    'D': ['D8', 'D9', 'D10', 'D11']})\n",
    "result = pd.concat([df1, df2, df3])\n",
    "print(result)"
   ]
  }
 ],
 "metadata": {
  "kernelspec": {
   "display_name": "Python 3",
   "language": "python",
   "name": "python3"
  },
  "language_info": {
   "codemirror_mode": {
    "name": "ipython",
    "version": 3
   },
   "file_extension": ".py",
   "mimetype": "text/x-python",
   "name": "python",
   "nbconvert_exporter": "python",
   "pygments_lexer": "ipython3",
   "version": "3.7.0"
  }
 },
 "nbformat": 4,
 "nbformat_minor": 2
}
