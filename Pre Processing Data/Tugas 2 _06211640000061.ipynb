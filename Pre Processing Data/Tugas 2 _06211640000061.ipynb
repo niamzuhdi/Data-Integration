{
 "cells": [
  {
   "cell_type": "code",
   "execution_count": 40,
   "metadata": {},
   "outputs": [],
   "source": [
    "import pandas as pd\n",
    "import numpy as np"
   ]
  },
  {
   "cell_type": "code",
   "execution_count": 41,
   "metadata": {},
   "outputs": [],
   "source": [
    "tugas=pd.read_csv('datatugas.csv')"
   ]
  },
  {
   "cell_type": "code",
   "execution_count": 42,
   "metadata": {},
   "outputs": [
    {
     "data": {
      "text/plain": [
       "att1      12\n",
       "att2      82\n",
       "att3       5\n",
       "att4     155\n",
       "att5      21\n",
       "att6      37\n",
       "att7       0\n",
       "att8      22\n",
       "att9       0\n",
       "att10      0\n",
       "class      0\n",
       "dtype: int64"
      ]
     },
     "execution_count": 42,
     "metadata": {},
     "output_type": "execute_result"
    }
   ],
   "source": [
    "np.sum(tugas.isnull())"
   ]
  },
  {
   "cell_type": "code",
   "execution_count": 43,
   "metadata": {},
   "outputs": [
    {
     "data": {
      "text/plain": [
       "att1     12\n",
       "att2      0\n",
       "att3      5\n",
       "att4      0\n",
       "att5      0\n",
       "att6      0\n",
       "att7      0\n",
       "att8      0\n",
       "att9      0\n",
       "att10     0\n",
       "class     0\n",
       "dtype: int64"
      ]
     },
     "execution_count": 43,
     "metadata": {},
     "output_type": "execute_result"
    }
   ],
   "source": [
    "tugas['att2']=tugas['att2'].fillna((tugas['att2'].mean()))\n",
    "tugas['att4']=tugas['att4'].fillna((tugas['att4'].mean()))\n",
    "tugas['att5']=tugas['att5'].fillna((tugas['att5'].mean()))\n",
    "tugas['att6']=tugas['att6'].fillna((tugas['att6'].mean()))\n",
    "tugas['att8']=tugas['att8'].fillna((tugas['att8'].mean()))\n",
    "np.sum(tugas.isnull())"
   ]
  },
  {
   "cell_type": "code",
   "execution_count": 44,
   "metadata": {},
   "outputs": [
    {
     "data": {
      "text/plain": [
       "att1     0\n",
       "att2     0\n",
       "att3     0\n",
       "att4     0\n",
       "att5     0\n",
       "att6     0\n",
       "att7     0\n",
       "att8     0\n",
       "att9     0\n",
       "att10    0\n",
       "class    0\n",
       "dtype: int64"
      ]
     },
     "execution_count": 44,
     "metadata": {},
     "output_type": "execute_result"
    }
   ],
   "source": [
    "from scipy.stats import mode\n",
    "\n",
    "tugas['att1']=tugas['att1'].fillna(tugas['att1']).dropna().mode()[0]\n",
    "tugas['att3']=tugas['att3'].fillna(tugas['att3']).dropna().mode()[0]\n",
    "np.sum(data.isnull())"
   ]
  },
  {
   "cell_type": "code",
   "execution_count": 45,
   "metadata": {},
   "outputs": [],
   "source": [
    "from scipy import stats"
   ]
  },
  {
   "cell_type": "code",
   "execution_count": 46,
   "metadata": {},
   "outputs": [
    {
     "name": "stdout",
     "output_type": "stream",
     "text": [
      "[[0.05232813 0.91916901 1.15647118 ... 1.51537248 0.49579284 1.14341756]\n",
      " [1.35137544 2.49289508 0.23775071 ... 0.76579366 0.07316842 1.2028276 ]\n",
      " [0.89168304 0.94461529 1.16723197 ... 1.06333639 0.07316842 0.13344684]\n",
      " ...\n",
      " [0.38478424 2.00998113 1.48842878 ... 0.79276868 1.12797201 0.07403679]\n",
      " [0.22266643 0.71531599 0.63609982 ... 0.59004726 0.87510034 0.52006363]\n",
      " [0.3191139  0.03929302 0.22698992 ... 0.78868156 1.08465509 1.35180422]]\n",
      "(4990, 11)\n"
     ]
    }
   ],
   "source": [
    "tugas1=tugas.drop(['att1','att3','class'],1)\n",
    "z= np.abs(stats.zscore(tugas1._get_numeric_data()))\n",
    "print(z)\n",
    "tugas=tugas[(z<3).all(axis=1)]\n",
    "print(tugas.shape)"
   ]
  }
 ],
 "metadata": {
  "kernelspec": {
   "display_name": "Python 3",
   "language": "python",
   "name": "python3"
  },
  "language_info": {
   "codemirror_mode": {
    "name": "ipython",
    "version": 3
   },
   "file_extension": ".py",
   "mimetype": "text/x-python",
   "name": "python",
   "nbconvert_exporter": "python",
   "pygments_lexer": "ipython3",
   "version": "3.7.0"
  }
 },
 "nbformat": 4,
 "nbformat_minor": 2
}
